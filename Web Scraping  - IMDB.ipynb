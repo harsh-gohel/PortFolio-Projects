{
 "cells": [
  {
   "cell_type": "code",
   "execution_count": 2,
   "id": "ecbdf41e",
   "metadata": {},
   "outputs": [],
   "source": [
    "# Writing a Python program to Scrape top 250 movies from IMDB website \n",
    "# and store it in an excel file"
   ]
  },
  {
   "cell_type": "code",
   "execution_count": 3,
   "id": "cc320bd9",
   "metadata": {},
   "outputs": [],
   "source": [
    "#import the modules\n",
    "\n",
    "from bs4 import BeautifulSoup\n",
    "import requests, openpyxl\n",
    "import pandas as pd\n",
    "import matplotlib.pyplot as plt\n"
   ]
  },
  {
   "cell_type": "code",
   "execution_count": 4,
   "id": "a48097d3",
   "metadata": {},
   "outputs": [],
   "source": [
    "#making an excel file using openpyxl library\n",
    "excel = openpyxl.Workbook()\n",
    "sheet = excel.active\n",
    "sheet.title = 'Top rated movies'\n",
    "sheet.append(['name','rank','year','rating'])\n"
   ]
  },
  {
   "cell_type": "code",
   "execution_count": 5,
   "id": "08d24984",
   "metadata": {},
   "outputs": [],
   "source": [
    "#url for IMDB's top 250 movies\n",
    "\n",
    "url = \"https://www.imdb.com/chart/top/?ref_=nv_mv_25012\""
   ]
  },
  {
   "cell_type": "code",
   "execution_count": 6,
   "id": "671b1e51",
   "metadata": {},
   "outputs": [],
   "source": [
    "try:\n",
    "    \n",
    "    source = requests.get(url)\n",
    "    source.raise_for_status()\n",
    "    soup = BeautifulSoup(source.text, 'html.parser')\n",
    "\n",
    "    #By checking through the inspect element I found that each movie name is inside a <tr> tag which all has a parent <tbody> tag\n",
    "    #finding the first <tbody> tag from html code and finding all <tr> tag inside that <tbody> tag which contains movie names.\n",
    "\n",
    "    movies = soup.find('tbody', class_='lister-list').find_all('tr')\n",
    "    all_movies = []\n",
    "    for movie in movies:\n",
    "        name = movie.find('td', class_='titleColumn').a.text\n",
    "        rank = movie.find('td', class_='titleColumn').get_text(strip = True).split('.')[0]\n",
    "        year = movie.find('td', class_='titleColumn').span.text.strip('()')\n",
    "        rating = movie.find('td', class_='ratingColumn imdbRating').strong.text\n",
    "        data = dict(movie_name = name, \n",
    "                   movie_rank = rank,\n",
    "                   movie_year = year,\n",
    "                   movie_rating = rating)\n",
    "        all_movies.append(data)\n",
    "        sheet.append([name,rank,year,rating])\n",
    "        \n",
    "except Exception as e:\n",
    "    print(e)\n",
    "\n",
    "#saving the excel file    \n",
    "excel.save('IMDB top 250 movies.xlsx')\n",
    "    "
   ]
  },
  {
   "cell_type": "code",
   "execution_count": null,
   "id": "c8e79fba",
   "metadata": {},
   "outputs": [],
   "source": []
  }
 ],
 "metadata": {
  "kernelspec": {
   "display_name": "Python 3 (ipykernel)",
   "language": "python",
   "name": "python3"
  },
  "language_info": {
   "codemirror_mode": {
    "name": "ipython",
    "version": 3
   },
   "file_extension": ".py",
   "mimetype": "text/x-python",
   "name": "python",
   "nbconvert_exporter": "python",
   "pygments_lexer": "ipython3",
   "version": "3.9.7"
  }
 },
 "nbformat": 4,
 "nbformat_minor": 5
}
